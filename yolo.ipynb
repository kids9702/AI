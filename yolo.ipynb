{
 "cells": [
  {
   "cell_type": "code",
   "execution_count": 7,
   "metadata": {},
   "outputs": [
    {
     "name": "stderr",
     "output_type": "stream",
     "text": [
      "YOLOv5  v6.1-110-g0ca85ed torch 1.11.0+cpu CPU\n"
     ]
    },
    {
     "name": "stdout",
     "output_type": "stream",
     "text": [
      "Setup complete  (12 CPUs, 15.8 GB RAM, 63.6/237.8 GB disk)\n"
     ]
    }
   ],
   "source": [
    "# git clone https://github.com/ultralytics/yolov5  # clone\n",
    "# cd yolov5\n",
    "# pip install -qr requirements.txt  # install\n",
    "\n",
    "import sys\n",
    "sys.path.insert(0, 'C:\\\\Users\\\\HUSTAR17\\\\Documents\\\\AI\\\\yolov5')\n",
    "import torch\n",
    "from yolov5 import utils\n",
    "display = utils.notebook_init()  # checks"
   ]
  },
  {
   "cell_type": "code",
   "execution_count": null,
   "metadata": {},
   "outputs": [],
   "source": []
  }
 ],
 "metadata": {
  "interpreter": {
   "hash": "b9c63406580e674b50202e6adde756ccd67c6ac5cc0d26f5b7f6183b930cd53b"
  },
  "kernelspec": {
   "display_name": "Python 3.9.12 64-bit",
   "language": "python",
   "name": "python3"
  },
  "language_info": {
   "codemirror_mode": {
    "name": "ipython",
    "version": 3
   },
   "file_extension": ".py",
   "mimetype": "text/x-python",
   "name": "python",
   "nbconvert_exporter": "python",
   "pygments_lexer": "ipython3",
   "version": "3.9.12"
  },
  "orig_nbformat": 4
 },
 "nbformat": 4,
 "nbformat_minor": 2
}
